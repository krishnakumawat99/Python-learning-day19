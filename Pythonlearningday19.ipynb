{
 "cells": [
  {
   "cell_type": "code",
   "execution_count": 1,
   "id": "7db4a780-903f-4bed-b278-3bf9730f74cb",
   "metadata": {},
   "outputs": [],
   "source": [
    "# exception handling\n",
    "# unwanted condition/Logic=> incorrect\n",
    "# terminate, interrupt"
   ]
  },
  {
   "cell_type": "code",
   "execution_count": 4,
   "id": "bc46c36e-e846-47e0-b789-e96d370f901e",
   "metadata": {},
   "outputs": [
    {
     "name": "stdout",
     "output_type": "stream",
     "text": [
      "hey\n",
      "Error will be handle\n"
     ]
    }
   ],
   "source": [
    "try:\n",
    "    print(\"hey\")\n",
    "    x=10\n",
    "    print(y)\n",
    "    print(\"$$$\")\n",
    "except:\n",
    "    print(\"Error will be handle\")"
   ]
  },
  {
   "cell_type": "code",
   "execution_count": 8,
   "id": "861da1cf-bc8a-4863-963f-395ab8a2506c",
   "metadata": {},
   "outputs": [
    {
     "name": "stdout",
     "output_type": "stream",
     "text": [
      "hey\n",
      "Zero division\n"
     ]
    }
   ],
   "source": [
    "try:\n",
    "    print(\"hey\")\n",
    "    x=10\n",
    "    print(x/0)\n",
    "    print(\"$$$\")\n",
    "except NameError:\n",
    "    print(\"Error will be handle\")\n",
    "\n",
    "except ZeroDivisionError:\n",
    "    print(\"Zero division\")"
   ]
  },
  {
   "cell_type": "code",
   "execution_count": 9,
   "id": "9a31cd8f-651e-4c87-8fc3-1e062453f1f2",
   "metadata": {},
   "outputs": [
    {
     "name": "stdout",
     "output_type": "stream",
     "text": [
      "hey\n",
      "Error will be handle\n"
     ]
    }
   ],
   "source": [
    "try:\n",
    "    print(\"hey\")\n",
    "    x=10\n",
    "    print(aa)\n",
    "    print(\"$$$\")\n",
    "except NameError:\n",
    "    print(\"Error will be handle\")\n",
    "\n",
    "except ZeroDivisionError:\n",
    "    print(\"Zero division\")"
   ]
  },
  {
   "cell_type": "code",
   "execution_count": 10,
   "id": "a424400d-60bf-44db-94aa-664b60611b26",
   "metadata": {},
   "outputs": [
    {
     "name": "stdout",
     "output_type": "stream",
     "text": [
      "hey\n",
      "4.0\n",
      "$$$\n"
     ]
    }
   ],
   "source": [
    "try:\n",
    "    print(\"hey\")\n",
    "    x=10\n",
    "    print(20/5)\n",
    "    print(\"$$$\")\n",
    "except NameError:\n",
    "    print(\"Error will be handle\")\n",
    "\n",
    "except ZeroDivisionError:\n",
    "    print(\"Zero division\")"
   ]
  },
  {
   "cell_type": "code",
   "execution_count": 11,
   "id": "5b42e710-8451-460f-abaf-c96d4fc1e808",
   "metadata": {},
   "outputs": [
    {
     "name": "stdout",
     "output_type": "stream",
     "text": [
      "hey\n",
      "2.0\n",
      "$$$\n"
     ]
    }
   ],
   "source": [
    "try:\n",
    "    print(\"hey\")\n",
    "    x=10\n",
    "    print(10/5)\n",
    "    print(\"$$$\")\n",
    "except (NameError,ZeroDivisionError):\n",
    "    print(\"Error will be handle\")"
   ]
  },
  {
   "cell_type": "code",
   "execution_count": 12,
   "id": "203acff6-3efb-45fb-8a5f-18c183f88842",
   "metadata": {},
   "outputs": [
    {
     "name": "stdout",
     "output_type": "stream",
     "text": [
      "hey\n",
      "Error will be handle:  division by zero\n"
     ]
    }
   ],
   "source": [
    "try:\n",
    "    print(\"hey\")\n",
    "    x=10\n",
    "    print(10/0)\n",
    "    print(\"$$$\")\n",
    "except (NameError,ZeroDivisionError) as a:\n",
    "    print(\"Error will be handle: \",a)"
   ]
  },
  {
   "cell_type": "code",
   "execution_count": 13,
   "id": "b4f203b5-f72b-4881-9d16-b9b12805fd7a",
   "metadata": {},
   "outputs": [
    {
     "name": "stdout",
     "output_type": "stream",
     "text": [
      "hey\n",
      "Error will be handle:  name 'wuhuigh' is not defined\n"
     ]
    }
   ],
   "source": [
    "try:\n",
    "    print(\"hey\")\n",
    "    x=10\n",
    "    print(wuhuigh)\n",
    "    print(\"$$$\")\n",
    "except (NameError,ZeroDivisionError) as a:\n",
    "    print(\"Error will be handle: \",a)"
   ]
  },
  {
   "cell_type": "code",
   "execution_count": 14,
   "id": "253e974f-68ac-43d2-b07b-c8e033d422ee",
   "metadata": {},
   "outputs": [
    {
     "name": "stdout",
     "output_type": "stream",
     "text": [
      "hey\n",
      "nested try statement error handled\n",
      "pokemon\n"
     ]
    }
   ],
   "source": [
    "# nested exception statement\n",
    "try:\n",
    "    print(\"hey\")\n",
    "    x=10\n",
    "    try:\n",
    "        print(wuhuigh)\n",
    "    except:\n",
    "      print(\"nested try statement error handled\")\n",
    "    print(\"pokemon\")\n",
    "except (NameError,ZeroDivisionError) as a:\n",
    "    print(\"Error will be handle: \",a)"
   ]
  },
  {
   "cell_type": "code",
   "execution_count": 15,
   "id": "9ad5d89c-712e-4abd-8c32-2b24f5bbf5a9",
   "metadata": {},
   "outputs": [
    {
     "name": "stdout",
     "output_type": "stream",
     "text": [
      "hey\n",
      "aaisha\n",
      "$$$\n",
      "this is Else block\n"
     ]
    }
   ],
   "source": [
    "try:\n",
    "    print(\"hey\")\n",
    "    print(\"aaisha\")\n",
    "    print(\"$$$\")\n",
    "except:\n",
    "    print(\"Error will be handle\")\n",
    "else:                              # if no error in try block\n",
    "    print(\"this is Else block\")"
   ]
  },
  {
   "cell_type": "code",
   "execution_count": 16,
   "id": "9008e25e-bbfd-4cd4-9e02-93d10bf775b5",
   "metadata": {},
   "outputs": [
    {
     "name": "stdout",
     "output_type": "stream",
     "text": [
      "hey\n",
      "Error will be handle\n"
     ]
    }
   ],
   "source": [
    "try:\n",
    "    print(\"hey\")\n",
    "    print(aaisha)\n",
    "    print(\"$$$\")\n",
    "except:\n",
    "    print(\"Error will be handle\")\n",
    "else:                              # if no error in try block\n",
    "    print(\"this is Else block\")"
   ]
  },
  {
   "cell_type": "code",
   "execution_count": 17,
   "id": "82a1e313-fcf0-469c-b56d-f769eb5676bc",
   "metadata": {},
   "outputs": [
    {
     "name": "stdout",
     "output_type": "stream",
     "text": [
      "hey\n",
      "Error will be handle\n",
      "this is finally block\n"
     ]
    }
   ],
   "source": [
    "try:\n",
    "    print(\"hey\")\n",
    "    print(aaisha)\n",
    "    print(\"$$$\")\n",
    "except:\n",
    "    print(\"Error will be handle\")\n",
    "finally:                              # always execute\n",
    "    print(\"this is finally block\")"
   ]
  },
  {
   "cell_type": "code",
   "execution_count": 18,
   "id": "0a2b3f47-531a-4c18-93a1-cdc1e18036d7",
   "metadata": {},
   "outputs": [
    {
     "name": "stdin",
     "output_type": "stream",
     "text": [
      "enter your age:  19\n"
     ]
    },
    {
     "name": "stdout",
     "output_type": "stream",
     "text": [
      "age is > 18 and can vote\n"
     ]
    }
   ],
   "source": [
    "# raise keyword\n",
    "age=int(input(\"enter your age: \"))\n",
    "try:\n",
    "  if(age<18):\n",
    "      raise ValueError\n",
    "  else:\n",
    "    print(\"age is > 18 and can vote\")\n",
    "except ValueError:\n",
    "  print(\"error for age less than 18\")"
   ]
  },
  {
   "cell_type": "code",
   "execution_count": 24,
   "id": "d0c1ae87-1fbe-4b97-8c53-1ebe317605f6",
   "metadata": {},
   "outputs": [
    {
     "data": {
      "text/plain": [
       "'10-krish-krish@gmail.com'"
      ]
     },
     "execution_count": 24,
     "metadata": {},
     "output_type": "execute_result"
    }
   ],
   "source": [
    "\"10,krish,krish@gmail.com\".split(\",\")\n",
    "\n",
    "y=['10', 'krish', 'krish@gmail.com']\n",
    "\"-\".join(y)"
   ]
  },
  {
   "cell_type": "code",
   "execution_count": 25,
   "id": "5dbaf5bc-ec85-40aa-a482-d36f0fdb901f",
   "metadata": {},
   "outputs": [
    {
     "name": "stdout",
     "output_type": "stream",
     "text": [
      "['10', 'krish', 'krish@gmail.com']\n",
      "['20', 'tushar', 'tushar@gmail.com']\n"
     ]
    }
   ],
   "source": [
    "with open(\"a2.txt\",\"r\") as f:\n",
    "    for line in f:\n",
    "        print(line.strip().split(\",\"))"
   ]
  },
  {
   "cell_type": "code",
   "execution_count": 34,
   "id": "94169140-a41a-4944-aa78-1dc03edc6539",
   "metadata": {},
   "outputs": [
    {
     "name": "stdout",
     "output_type": "stream",
     "text": [
      "Id is= 10 Name is= krish Email is= krish@gmail.com\n",
      "Id is= 20 Name is= tushar Email is= tushar@gmail.com\n"
     ]
    }
   ],
   "source": [
    "with open(\"a2.txt\",\"r\") as f:\n",
    "    for line in f:\n",
    "        mylist=line.strip().split(\",\")     #['10', 'aman', 'aman@gmail.com']\n",
    "        print(f\"Id is=\",mylist[0],\"Name is=\",mylist[1], \"Email is=\",mylist[2])"
   ]
  },
  {
   "cell_type": "code",
   "execution_count": 26,
   "id": "00f20d51-795b-45f6-8414-a75148901a5f",
   "metadata": {},
   "outputs": [
    {
     "name": "stdout",
     "output_type": "stream",
     "text": [
      "10\n",
      "krish\n",
      "krish@gmail.com\n",
      "20\n",
      "tushar\n",
      "tushar@gmail.com\n"
     ]
    }
   ],
   "source": [
    "with open(\"a2.txt\",\"r\") as f:\n",
    "    for line in f:\n",
    "        for word in line.strip().split(\",\"):\n",
    "            print(word)"
   ]
  },
  {
   "cell_type": "code",
   "execution_count": 35,
   "id": "3809a943-33fe-49cf-a7aa-a92f56051926",
   "metadata": {},
   "outputs": [
    {
     "name": "stdout",
     "output_type": "stream",
     "text": [
      "Id is= 10 Name is= krish Email is= krish@gmail.com\n",
      "Id is= 20 Name is= tushar Email is= tushar@gmail.com\n"
     ]
    }
   ],
   "source": [
    "import csv\n",
    "\n",
    "with open(\"a2.txt\",\"r\") as f:\n",
    "    f_csv=csv.reader(f)\n",
    "    for line in f_csv:\n",
    "        print(f\"Id is=\",line[0],\"Name is=\",line[1],\"Email is=\",line[2])"
   ]
  },
  {
   "cell_type": "code",
   "execution_count": null,
   "id": "63f9b5c6-ab88-48b7-b0f1-2dda5ded4a87",
   "metadata": {},
   "outputs": [],
   "source": []
  }
 ],
 "metadata": {
  "kernelspec": {
   "display_name": "Python 3 (ipykernel)",
   "language": "python",
   "name": "python3"
  },
  "language_info": {
   "codemirror_mode": {
    "name": "ipython",
    "version": 3
   },
   "file_extension": ".py",
   "mimetype": "text/x-python",
   "name": "python",
   "nbconvert_exporter": "python",
   "pygments_lexer": "ipython3",
   "version": "3.10.11"
  }
 },
 "nbformat": 4,
 "nbformat_minor": 5
}
